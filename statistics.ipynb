{
 "cells": [
  {
   "cell_type": "code",
   "execution_count": 50,
   "id": "7eec87da",
   "metadata": {},
   "outputs": [],
   "source": [
    "from lxml import etree\n",
    "import requests\n",
    "from __future__ import print_function, division\n",
    "import pandas as pd\n",
    "from selenium import webdriver\n",
    "from selenium.webdriver.common.by import By\n",
    "from uszipcode import SearchEngine\n",
    "import warnings\n",
    "warnings.filterwarnings(\"ignore\")\n",
    "import numpy as np\n",
    "import time\n",
    "import random\n",
    "import requests\n",
    "import pandas as pd "
   ]
  },
  {
   "cell_type": "code",
   "execution_count": 51,
   "id": "54fbfddf",
   "metadata": {},
   "outputs": [],
   "source": [
    "path= \"chromedriver.exe\""
   ]
  },
  {
   "cell_type": "markdown",
   "id": "a791387d",
   "metadata": {},
   "source": [
    "# PLAYER_BATTING"
   ]
  },
  {
   "cell_type": "code",
   "execution_count": 52,
   "id": "a2d04d55",
   "metadata": {},
   "outputs": [],
   "source": [
    "driver= webdriver.Chrome(path)"
   ]
  },
  {
   "cell_type": "code",
   "execution_count": 53,
   "id": "3df2f9c3",
   "metadata": {},
   "outputs": [],
   "source": [
    "\n",
    "driver.get('https://baseballsavant.mlb.com/leaderboard/custom?year=2022&type=batter&filter=&sort=4&sortDir=desc&min=q&selections=xba,xslg,xwoba,xobp,xiso,exit_velocity_avg,launch_angle_avg,barrel_batted_rate,&chart=false&x=xba&y=xba&r=no&chartType=beeswarm')"
   ]
  },
  {
   "cell_type": "code",
   "execution_count": 54,
   "id": "99a4520a",
   "metadata": {},
   "outputs": [],
   "source": [
    "header=[]\n",
    "for i in range(1,20):\n",
    "    try:\n",
    "        header.append(driver.find_element(by=By.XPATH,value='//*[@id=\"sortable_stats\"]/table/thead/tr/th[{}]'.format(i)).text)\n",
    "    except:\n",
    "        break"
   ]
  },
  {
   "cell_type": "code",
   "execution_count": null,
   "id": "eba19905",
   "metadata": {},
   "outputs": [],
   "source": []
  },
  {
   "cell_type": "code",
   "execution_count": 55,
   "id": "57dcb592",
   "metadata": {},
   "outputs": [
    {
     "data": {
      "text/plain": [
       "11"
      ]
     },
     "execution_count": 55,
     "metadata": {},
     "output_type": "execute_result"
    }
   ],
   "source": [
    "len(header)"
   ]
  },
  {
   "cell_type": "code",
   "execution_count": 56,
   "id": "a58c9b41",
   "metadata": {},
   "outputs": [],
   "source": [
    "table=driver.find_element(by=By.CSS_SELECTOR,value=\"tbody\")\n",
    "PLAYER_BATTING=table.text.split(sep='\\n')"
   ]
  },
  {
   "cell_type": "code",
   "execution_count": 57,
   "id": "9e186843",
   "metadata": {},
   "outputs": [
    {
     "data": {
      "text/plain": [
       "['1 Judge, Aaron 2022 .305 .706 .463 .422 .401 95.9 15 26.5',\n",
       " '2 Alvarez, Yordan 2022 .329 .672 .462 .430 .343 95.2 12.3 21',\n",
       " '3 Freeman, Freddie 2022 .313 .538 .403 .400 .225 91.3 13.6 9.9',\n",
       " '4 Soto, Juan 2022 .266 .501 .401 .420 .235 91 9.1 12.4',\n",
       " '5 Ohtani, Shohei 2022 .278 .552 .385 .361 .274 92.9 12.1 16.8',\n",
       " '6 Riley, Austin 2022 .271 .531 .378 .349 .260 92.5 12.9 15.7',\n",
       " '7 Schwarber, Kyle 2022 .237 .535 .375 .341 .298 93.3 19.2 20.1',\n",
       " '8 Abreu, Jose 2022 .296 .486 .373 .372 .190 92.2 8 9.5',\n",
       " '9 Seager, Corey 2022 .283 .510 .372 .354 .226 91.1 13.6 10.5',\n",
       " '10 Goldschmidt, Paul 2022 .261 .482 .367 .357 .221 90.8 15.7 11.6',\n",
       " '11 Acuna Jr., Ronald 2022 .272 .486 .366 .358 .214 91.2 10.8 12.8',\n",
       " '12 Diaz, Yandy 2022 .288 .424 .365 .395 .137 92.2 7.7 4.8',\n",
       " '13 Correa, Carlos 2022 .276 .484 .363 .353 .208 89.9 11.6 11.4',\n",
       " '14 Mountcastle, Ryan 2022 .277 .509 .362 .332 .232 91.3 15.9 15',\n",
       " '15 Ward, Taylor 2022 .268 .474 .361 .352 .206 90 15.8 12.4',\n",
       " '16 Devers, Rafael 2022 .282 .497 .361 .348 .215 93.1 11.3 11.5',\n",
       " '17 Walker, Christian 2022 .257 .484 .359 .343 .227 90 17 11.5',\n",
       " '18 Altuve, Jose 2022 .269 .440 .354 .362 .171 85.9 16.1 7.7',\n",
       " '19 Alonso, Pete 2022 .262 .489 .354 .346 .227 89.8 18.2 12.3',\n",
       " '20 Tucker, Kyle 2022 .262 .482 .353 .336 .220 90 19 10.2',\n",
       " '21 Santana, Carlos 2022 .253 .438 .352 .361 .185 90.7 15.4 9.3',\n",
       " '22 Santander, Anthony 2022 .257 .471 .352 .335 .214 90.1 21.4 11.6',\n",
       " '23 Smith, Will 2022 .257 .473 .352 .341 .216 89.9 18.4 10.3',\n",
       " '24 Realmuto, J.T. 2022 .275 .463 .351 .342 .188 90.3 13.1 11.3',\n",
       " '25 Hernandez, Teoscar 2022 .265 .501 .351 .314 .236 92.6 11.6 15',\n",
       " '26 Kirk, Alejandro 2022 .278 .431 .351 .367 .153 90.5 8.1 6.7',\n",
       " '27 Bregman, Alex 2022 .257 .416 .350 .369 .159 88.9 19.5 7.3',\n",
       " '28 Martinez, J.D. 2022 .260 .471 .349 .330 .211 89.1 14.1 12.5',\n",
       " '29 Rizzo, Anthony 2022 .239 .454 .349 .350 .215 89.4 19.3 10.9',\n",
       " '30 Bell, Josh 2022 .273 .424 .349 .369 .151 88.9 8.4 7.2',\n",
       " '31 Tellez, Rowdy 2022 .252 .479 .349 .337 .226 91.1 15.3 12.9',\n",
       " '32 Guerrero Jr., Vladimir 2022 .276 .462 .348 .342 .185 92.8 4.3 11.2',\n",
       " '33 Olson, Matt 2022 .248 .467 .347 .334 .219 92.9 16.1 13.6',\n",
       " '34 Winker, Jesse 2022 .249 .403 .345 .369 .154 87.7 16.8 7.6',\n",
       " '35 LeMahieu, DJ 2022 .274 .403 .344 .369 .130 89.2 3 5.3',\n",
       " '36 Betts, Mookie 2022 .254 .465 .344 .327 .211 90.5 18.6 9.7',\n",
       " '37 Lowe, Nathaniel 2022 .275 .459 .344 .333 .184 90.2 8.2 9.9',\n",
       " '38 Murphy, Sean 2022 .255 .439 .344 .340 .184 88.7 11.5 10.5',\n",
       " '39 Springer III, George 2022 .265 .438 .342 .342 .172 88.7 13.9 8.4',\n",
       " '40 Nimmo, Brandon 2022 .261 .409 .342 .357 .148 89.4 6.1 7',\n",
       " '41 Chapman, Matt 2022 .234 .440 .341 .331 .206 92.2 19 12.9',\n",
       " '42 Turner, Justin 2022 .267 .427 .339 .343 .160 89.5 18.4 8',\n",
       " '43 Suarez, Eugenio 2022 .220 .454 .339 .321 .234 89.8 19.9 14.8',\n",
       " '44 Arenado, Nolan 2022 .265 .445 .339 .335 .179 88.7 21.7 8.2',\n",
       " '45 Muncy, Max 2022 .208 .417 .339 .342 .209 90.3 20.9 13.4',\n",
       " '46 Yelich, Christian 2022 .258 .404 .339 .360 .146 91.5 3.6 8.2',\n",
       " '47 Machado, Manny 2022 .264 .447 .338 .338 .183 91.5 16 9.8',\n",
       " '48 Hoskins, Rhys 2022 .239 .445 .338 .327 .207 90.1 18.1 11.1',\n",
       " '49 Brown, Seth 2022 .251 .454 .338 .324 .203 89.2 15.8 13',\n",
       " '50 Ozuna, Marcell 2022 .256 .478 .337 .303 .222 89.4 16.5 13.1',\n",
       " '51 Swanson, Dansby 2022 .257 .461 .337 .314 .204 90.2 15.7 10.8',\n",
       " '52 Rodriguez, Julio 2022 .254 .460 .337 .319 .206 92 10.1 13.1',\n",
       " '53 Marte, Starling 2022 .276 .428 .336 .332 .153 86.8 7.5 6.8',\n",
       " '54 Turner, Trea 2022 .276 .432 .335 .327 .156 88.9 10.2 7.6',\n",
       " '55 Benintendi, Andrew 2022 .273 .407 .334 .347 .134 89.2 12.6 5.1',\n",
       " '56 Bichette, Bo 2022 .278 .444 .334 .322 .166 91.9 8.5 9.6',\n",
       " '57 Arraez, Luis 2022 .288 .408 .333 .350 .121 88.9 12.9 3.6',\n",
       " '58 Bohm, Alec 2022 .290 .436 .333 .327 .146 90.2 10.4 6.8',\n",
       " '59 Melendez Jr., MJ 2022 .237 .410 .332 .334 .173 90.7 15.1 10.4',\n",
       " '60 Lindor, Francisco 2022 .254 .427 .331 .326 .173 89.3 13.8 8.3',\n",
       " '61 McMahon, Ryan 2022 .248 .423 .330 .329 .176 91.7 10.8 10.4',\n",
       " '62 Verdugo, Alex 2022 .278 .428 .329 .327 .151 89.1 8.4 6',\n",
       " '63 Reynolds, Bryan 2022 .249 .416 .329 .334 .167 90.2 12 7.9',\n",
       " '64 Mancini III, Trey 2022 .245 .410 .327 .328 .165 89.5 12.7 9.8',\n",
       " '65 Rodgers, Brendan 2022 .265 .404 .326 .330 .139 90 4.6 7.2',\n",
       " '66 Gimenez, Andres 2022 .257 .400 .326 .336 .143 87.8 11.7 6.2',\n",
       " '67 McCutchen, Andrew 2022 .252 .406 .325 .329 .155 89.1 13.2 8.6',\n",
       " '68 Urshela, Gio 2022 .268 .416 .323 .324 .148 88.9 11.8 7',\n",
       " '69 Canha, Mark 2022 .245 .362 .323 .351 .117 87.7 10.9 4.9',\n",
       " '70 Renfroe, Hunter 2022 .240 .438 .323 .303 .199 90.5 17.7 10.9',\n",
       " '71 Bogaerts, Xander 2022 .259 .383 .323 .338 .124 88.1 10.2 6.5',\n",
       " '72 Adames, Willy 2022 .238 .451 .323 .299 .213 88.9 18.9 13',\n",
       " '73 McNeil, Jeff 2022 .280 .389 .323 .341 .109 86.9 12.8 2.7',\n",
       " '74 Voit III, Luke 2022 .222 .434 .322 .306 .212 89.8 18.4 14.7',\n",
       " '75 Garcia, Adolis 2022 .244 .447 .322 .296 .204 92.1 13.2 12.9',\n",
       " '76 Cron, C.J. 2022 .244 .438 .321 .306 .194 88.7 14.2 10.8',\n",
       " '77 France, Ty 2022 .262 .398 .321 .330 .136 87.6 10.1 5.4',\n",
       " '78 Cruz Jr., Nelson 2022 .241 .399 .320 .323 .157 90.9 7.2 9.3',\n",
       " '79 Ramirez, Jose 2022 .255 .408 .320 .337 .153 87.7 20.7 6.6',\n",
       " '80 Torres, Gleyber 2022 .244 .441 .319 .298 .198 90.4 17.5 10.7',\n",
       " '81 Vaughn, Andrew 2022 .255 .415 .319 .311 .160 90.8 7.5 7.9',\n",
       " '82 Pollock, AJ 2022 .258 .419 .317 .305 .161 88.8 11.6 9.4',\n",
       " '83 Drury, Brandon 2022 .242 .420 .316 .303 .179 89.1 13.8 10.4',\n",
       " '84 Profar, Jurickson 2022 .251 .359 .315 .340 .108 87.5 12.9 4',\n",
       " '85 Marte, Ketel 2022 .251 .377 .315 .333 .126 90.1 13.5 6.1',\n",
       " '86 Crawford, J.P. 2022 .255 .337 .315 .353 .081 85.1 8.9 2',\n",
       " '87 Escobar, Eduardo 2022 .243 .427 .314 .300 .183 88.3 20.6 9.4',\n",
       " '88 Yastrzemski, Mike 2022 .220 .392 .314 .313 .172 89.9 19.9 11.1',\n",
       " '89 Witt Jr., Bobby 2022 .252 .427 .313 .294 .174 89.7 16.8 8.7',\n",
       " '90 Kwan, Steven 2022 .268 .341 .312 .348 .073 85.1 11.8 1.4',\n",
       " '91 Pham, Tommy 2022 .238 .383 .311 .315 .145 92.2 7.7 7.9',\n",
       " '92 Farmer, Kyle 2022 .258 .380 .311 .320 .122 85.5 12.7 4.4',\n",
       " '93 Flores, Wilmer 2022 .233 .370 .310 .322 .137 87.8 20.7 6.3',\n",
       " '94 Rosario, Amed 2022 .276 .396 .310 .308 .120 88.4 5 4.5',\n",
       " '95 Kim, Ha-Seong 2022 .250 .368 .309 .324 .119 86.7 16.1 4.2',\n",
       " '96 Rojas, Josh 2022 .242 .365 .308 .327 .123 88.8 11.9 4.5',\n",
       " '97 Edman, Tommy 2022 .258 .380 .308 .318 .122 88.6 8.7 6.2',\n",
       " '98 Semien, Marcus 2022 .243 .394 .306 .301 .151 87.3 19.9 6.8',\n",
       " '99 Happ, Ian 2022 .239 .379 .306 .315 .140 89.7 10.9 6.5',\n",
       " '100 Cronenworth, Jake 2022 .221 .356 .303 .319 .135 87.6 18.2 5.6',\n",
       " \"101 Hayes, Ke'Bryan 2022 .250 .354 .303 .321 .105 91 5.2 3.9\",\n",
       " '102 Castellanos, Nick 2022 .250 .395 .302 .293 .145 87.5 14.6 6.6',\n",
       " '103 Blackmon, Charlie 2022 .256 .376 .301 .308 .120 86.2 12.4 4.4',\n",
       " '104 Hoerner, Nico 2022 .270 .366 .301 .318 .097 87.2 10.7 2.6',\n",
       " '105 Arozarena, Randy 2022 .234 .382 .301 .301 .148 89.9 8.8 7.9',\n",
       " '106 Pena, Jeremy 2022 .248 .397 .300 .285 .149 88.1 8.7 9.7',\n",
       " '107 Donaldson, Josh 2022 .215 .370 .299 .303 .154 90.7 12 9.8',\n",
       " '108 Estrada, Thairo 2022 .246 .352 .299 .312 .107 86.2 8.1 4.4',\n",
       " '109 Aguilar, Jesus 2022 .240 .393 .298 .288 .153 87.7 19.1 6.9',\n",
       " '110 Varsho, Daulton 2022 .214 .389 .298 .285 .176 87.7 14.9 10.2',\n",
       " '111 Hays, Austin 2022 .240 .372 .298 .298 .132 87.7 11.3 5.2',\n",
       " '112 Frazier, Adam 2022 .262 .339 .297 .324 .077 85.1 13.6 1.5',\n",
       " '113 Rengifo, Luis 2022 .254 .392 .296 .285 .138 86.9 9.9 5.4',\n",
       " '114 Wisdom, Patrick 2022 .188 .380 .295 .284 .191 90.7 21 14.2',\n",
       " '115 Grisham, Trent 2022 .204 .354 .295 .302 .150 88.3 15.1 8.1',\n",
       " '116 Andrus, Elvis 2022 .245 .360 .293 .300 .114 87.9 11.9 4.5',\n",
       " '117 Rojas, Miguel 2022 .264 .347 .293 .310 .083 86.1 10.1 1.9',\n",
       " '118 Hernandez, Cesar 2022 .248 .329 .290 .312 .081 84.8 9.3 2.4',\n",
       " '119 Kiner-Falefa, Isiah 2022 .262 .333 .290 .317 .071 86.2 4.3 1.2',\n",
       " '120 Merrifield, Whit 2022 .240 .356 .288 .292 .116 87.1 15.1 4.2',\n",
       " '121 Mullins II, Cedric 2022 .232 .349 .288 .297 .117 88.8 17.4 4.9',\n",
       " '122 Thomas, Lane 2022 .222 .357 .286 .286 .135 86.4 12.5 6.5',\n",
       " '123 Baez, Javier 2022 .230 .378 .285 .272 .149 87.9 9.6 8',\n",
       " '124 Grichuk, Randal 2022 .229 .370 .281 .271 .141 90 8.7 6.8',\n",
       " '125 Bellinger, Cody 2022 .213 .354 .278 .271 .141 89.4 20.3 8.3',\n",
       " '126 Straw, Myles 2022 .236 .301 .275 .306 .065 87 9.8 0.7',\n",
       " '127 Mateo, Jorge 2022 .222 .344 .272 .269 .122 86.8 14.8 6',\n",
       " '128 Gurriel, Yuli 2022 .240 .319 .271 .286 .079 88.2 14.6 1.9',\n",
       " '129 Schoop, Jonathan 2022 .228 .338 .268 .267 .111 87 9.7 4.8',\n",
       " '130 Kemp, Tony 2022 .219 .291 .267 .294 .072 84.4 15 1.6']"
      ]
     },
     "execution_count": 57,
     "metadata": {},
     "output_type": "execute_result"
    }
   ],
   "source": [
    "PLAYER_BATTING"
   ]
  },
  {
   "cell_type": "code",
   "execution_count": 58,
   "id": "6f1c56fd",
   "metadata": {},
   "outputs": [],
   "source": [
    "ls=[]\n",
    "for i in PLAYER_BATTING:\n",
    "    if len(i.split(' '))==13:\n",
    "        ls.append(i.split(' ')[:1]+[i.split(' ')[1]+' '+i.split(' ')[2]+' '+i.split(' ')[3]]+i.split(' ')[4:])\n",
    "    else:\n",
    "        ls.append(i.split(' ')[:1]+[i.split(' ')[1]+' '+i.split(' ')[2]]+i.split(' ')[3:])"
   ]
  },
  {
   "cell_type": "code",
   "execution_count": 59,
   "id": "335fe0df",
   "metadata": {},
   "outputs": [],
   "source": [
    "df=pd.DataFrame()\n",
    "df=pd.DataFrame(ls,columns=header)"
   ]
  },
  {
   "cell_type": "code",
   "execution_count": 60,
   "id": "f05d05d4",
   "metadata": {},
   "outputs": [
    {
     "data": {
      "text/html": [
       "<div>\n",
       "<style scoped>\n",
       "    .dataframe tbody tr th:only-of-type {\n",
       "        vertical-align: middle;\n",
       "    }\n",
       "\n",
       "    .dataframe tbody tr th {\n",
       "        vertical-align: top;\n",
       "    }\n",
       "\n",
       "    .dataframe thead th {\n",
       "        text-align: right;\n",
       "    }\n",
       "</style>\n",
       "<table border=\"1\" class=\"dataframe\">\n",
       "  <thead>\n",
       "    <tr style=\"text-align: right;\">\n",
       "      <th></th>\n",
       "      <th>Rk.</th>\n",
       "      <th>Player</th>\n",
       "      <th>Year</th>\n",
       "      <th>xBA</th>\n",
       "      <th>xSLG</th>\n",
       "      <th>xwOBA</th>\n",
       "      <th>xOBP</th>\n",
       "      <th>xISO</th>\n",
       "      <th>Avg EV (MPH)</th>\n",
       "      <th>Avg LA (°)</th>\n",
       "      <th>Barrel%</th>\n",
       "    </tr>\n",
       "  </thead>\n",
       "  <tbody>\n",
       "    <tr>\n",
       "      <th>0</th>\n",
       "      <td>1</td>\n",
       "      <td>Judge, Aaron</td>\n",
       "      <td>2022</td>\n",
       "      <td>.305</td>\n",
       "      <td>.706</td>\n",
       "      <td>.463</td>\n",
       "      <td>.422</td>\n",
       "      <td>.401</td>\n",
       "      <td>95.9</td>\n",
       "      <td>15</td>\n",
       "      <td>26.5</td>\n",
       "    </tr>\n",
       "    <tr>\n",
       "      <th>1</th>\n",
       "      <td>2</td>\n",
       "      <td>Alvarez, Yordan</td>\n",
       "      <td>2022</td>\n",
       "      <td>.329</td>\n",
       "      <td>.672</td>\n",
       "      <td>.462</td>\n",
       "      <td>.430</td>\n",
       "      <td>.343</td>\n",
       "      <td>95.2</td>\n",
       "      <td>12.3</td>\n",
       "      <td>21</td>\n",
       "    </tr>\n",
       "    <tr>\n",
       "      <th>2</th>\n",
       "      <td>3</td>\n",
       "      <td>Freeman, Freddie</td>\n",
       "      <td>2022</td>\n",
       "      <td>.313</td>\n",
       "      <td>.538</td>\n",
       "      <td>.403</td>\n",
       "      <td>.400</td>\n",
       "      <td>.225</td>\n",
       "      <td>91.3</td>\n",
       "      <td>13.6</td>\n",
       "      <td>9.9</td>\n",
       "    </tr>\n",
       "    <tr>\n",
       "      <th>3</th>\n",
       "      <td>4</td>\n",
       "      <td>Soto, Juan</td>\n",
       "      <td>2022</td>\n",
       "      <td>.266</td>\n",
       "      <td>.501</td>\n",
       "      <td>.401</td>\n",
       "      <td>.420</td>\n",
       "      <td>.235</td>\n",
       "      <td>91</td>\n",
       "      <td>9.1</td>\n",
       "      <td>12.4</td>\n",
       "    </tr>\n",
       "    <tr>\n",
       "      <th>4</th>\n",
       "      <td>5</td>\n",
       "      <td>Ohtani, Shohei</td>\n",
       "      <td>2022</td>\n",
       "      <td>.278</td>\n",
       "      <td>.552</td>\n",
       "      <td>.385</td>\n",
       "      <td>.361</td>\n",
       "      <td>.274</td>\n",
       "      <td>92.9</td>\n",
       "      <td>12.1</td>\n",
       "      <td>16.8</td>\n",
       "    </tr>\n",
       "    <tr>\n",
       "      <th>...</th>\n",
       "      <td>...</td>\n",
       "      <td>...</td>\n",
       "      <td>...</td>\n",
       "      <td>...</td>\n",
       "      <td>...</td>\n",
       "      <td>...</td>\n",
       "      <td>...</td>\n",
       "      <td>...</td>\n",
       "      <td>...</td>\n",
       "      <td>...</td>\n",
       "      <td>...</td>\n",
       "    </tr>\n",
       "    <tr>\n",
       "      <th>125</th>\n",
       "      <td>126</td>\n",
       "      <td>Straw, Myles</td>\n",
       "      <td>2022</td>\n",
       "      <td>.236</td>\n",
       "      <td>.301</td>\n",
       "      <td>.275</td>\n",
       "      <td>.306</td>\n",
       "      <td>.065</td>\n",
       "      <td>87</td>\n",
       "      <td>9.8</td>\n",
       "      <td>0.7</td>\n",
       "    </tr>\n",
       "    <tr>\n",
       "      <th>126</th>\n",
       "      <td>127</td>\n",
       "      <td>Mateo, Jorge</td>\n",
       "      <td>2022</td>\n",
       "      <td>.222</td>\n",
       "      <td>.344</td>\n",
       "      <td>.272</td>\n",
       "      <td>.269</td>\n",
       "      <td>.122</td>\n",
       "      <td>86.8</td>\n",
       "      <td>14.8</td>\n",
       "      <td>6</td>\n",
       "    </tr>\n",
       "    <tr>\n",
       "      <th>127</th>\n",
       "      <td>128</td>\n",
       "      <td>Gurriel, Yuli</td>\n",
       "      <td>2022</td>\n",
       "      <td>.240</td>\n",
       "      <td>.319</td>\n",
       "      <td>.271</td>\n",
       "      <td>.286</td>\n",
       "      <td>.079</td>\n",
       "      <td>88.2</td>\n",
       "      <td>14.6</td>\n",
       "      <td>1.9</td>\n",
       "    </tr>\n",
       "    <tr>\n",
       "      <th>128</th>\n",
       "      <td>129</td>\n",
       "      <td>Schoop, Jonathan</td>\n",
       "      <td>2022</td>\n",
       "      <td>.228</td>\n",
       "      <td>.338</td>\n",
       "      <td>.268</td>\n",
       "      <td>.267</td>\n",
       "      <td>.111</td>\n",
       "      <td>87</td>\n",
       "      <td>9.7</td>\n",
       "      <td>4.8</td>\n",
       "    </tr>\n",
       "    <tr>\n",
       "      <th>129</th>\n",
       "      <td>130</td>\n",
       "      <td>Kemp, Tony</td>\n",
       "      <td>2022</td>\n",
       "      <td>.219</td>\n",
       "      <td>.291</td>\n",
       "      <td>.267</td>\n",
       "      <td>.294</td>\n",
       "      <td>.072</td>\n",
       "      <td>84.4</td>\n",
       "      <td>15</td>\n",
       "      <td>1.6</td>\n",
       "    </tr>\n",
       "  </tbody>\n",
       "</table>\n",
       "<p>130 rows × 11 columns</p>\n",
       "</div>"
      ],
      "text/plain": [
       "     Rk.            Player  Year   xBA  xSLG xwOBA  xOBP  xISO Avg EV (MPH)  \\\n",
       "0      1      Judge, Aaron  2022  .305  .706  .463  .422  .401         95.9   \n",
       "1      2   Alvarez, Yordan  2022  .329  .672  .462  .430  .343         95.2   \n",
       "2      3  Freeman, Freddie  2022  .313  .538  .403  .400  .225         91.3   \n",
       "3      4        Soto, Juan  2022  .266  .501  .401  .420  .235           91   \n",
       "4      5    Ohtani, Shohei  2022  .278  .552  .385  .361  .274         92.9   \n",
       "..   ...               ...   ...   ...   ...   ...   ...   ...          ...   \n",
       "125  126      Straw, Myles  2022  .236  .301  .275  .306  .065           87   \n",
       "126  127      Mateo, Jorge  2022  .222  .344  .272  .269  .122         86.8   \n",
       "127  128     Gurriel, Yuli  2022  .240  .319  .271  .286  .079         88.2   \n",
       "128  129  Schoop, Jonathan  2022  .228  .338  .268  .267  .111           87   \n",
       "129  130        Kemp, Tony  2022  .219  .291  .267  .294  .072         84.4   \n",
       "\n",
       "    Avg LA (°) Barrel%  \n",
       "0           15    26.5  \n",
       "1         12.3      21  \n",
       "2         13.6     9.9  \n",
       "3          9.1    12.4  \n",
       "4         12.1    16.8  \n",
       "..         ...     ...  \n",
       "125        9.8     0.7  \n",
       "126       14.8       6  \n",
       "127       14.6     1.9  \n",
       "128        9.7     4.8  \n",
       "129         15     1.6  \n",
       "\n",
       "[130 rows x 11 columns]"
      ]
     },
     "execution_count": 60,
     "metadata": {},
     "output_type": "execute_result"
    }
   ],
   "source": [
    "df"
   ]
  },
  {
   "cell_type": "code",
   "execution_count": 61,
   "id": "3fe928ab",
   "metadata": {},
   "outputs": [],
   "source": [
    "df.to_csv('statistics/PLAYER_BATTING.csv') \n",
    "driver.quit()"
   ]
  },
  {
   "cell_type": "markdown",
   "id": "1827cfba",
   "metadata": {},
   "source": [
    "# PLAYER_PITCHING"
   ]
  },
  {
   "cell_type": "code",
   "execution_count": 62,
   "id": "b4d3fde1",
   "metadata": {},
   "outputs": [],
   "source": [
    "driver= webdriver.Chrome(path)\n",
    "driver.get('https://baseballsavant.mlb.com/leaderboard/custom?year=2022&type=pitcher&filter=&sort=4&sortDir=asc&min=q&selections=xba,xslg,xwoba,xobp,xiso,exit_velocity_avg,launch_angle_avg,barrel_batted_rate,&chart=false&x=xba&y=xba&r=no&chartType=beeswarm')"
   ]
  },
  {
   "cell_type": "code",
   "execution_count": 63,
   "id": "b16207d9",
   "metadata": {},
   "outputs": [],
   "source": [
    "header=[]\n",
    "for i in range(1,20):\n",
    "    try:\n",
    "        header.append(driver.find_element(by=By.XPATH,value='//*[@id=\"sortable_stats\"]/table/thead/tr/th[{}]'.format(i)).text)\n",
    "    except:\n",
    "        break\n",
    "table=driver.find_element(by=By.CSS_SELECTOR,value=\"tbody\")\n",
    "PLAYER_PITCHING=table.text.split(sep='\\n')\n",
    "ls=[]\n",
    "for i in PLAYER_PITCHING:\n",
    "    ls.append((i.split(sep=', ')[0]+','+i.split(sep=', ')[1]).split(sep=' '))"
   ]
  },
  {
   "cell_type": "code",
   "execution_count": 64,
   "id": "4ff68c90",
   "metadata": {},
   "outputs": [],
   "source": [
    "df=pd.DataFrame(ls,columns=header)\n",
    "df.to_csv('statistics/PLAYER_PITCHING.csv') \n",
    "driver.quit()"
   ]
  },
  {
   "cell_type": "markdown",
   "id": "73d826f1",
   "metadata": {},
   "source": [
    "# LEAGUE_BATTING"
   ]
  },
  {
   "cell_type": "code",
   "execution_count": 65,
   "id": "95e69d09",
   "metadata": {},
   "outputs": [],
   "source": [
    "driver= webdriver.Chrome(path)\n",
    "driver.get('https://baseballsavant.mlb.com/league?view=statcast&nav=hitting&season=2022')"
   ]
  },
  {
   "cell_type": "code",
   "execution_count": 66,
   "id": "b85250f1",
   "metadata": {},
   "outputs": [],
   "source": [
    "table1=driver.find_element(by=By.XPATH,value=\"/html/body/div[2]/section/div[1]/div[1]/div[2]/table/tbody\")"
   ]
  },
  {
   "cell_type": "code",
   "execution_count": 67,
   "id": "8dc8b7d9",
   "metadata": {
    "scrolled": true
   },
   "outputs": [
    {
     "data": {
      "text/plain": [
       "['Rangers 2022 6029 5478 1308 224 20 198 456 1446 .239 .301 .395 .305 .366 23097 4080 323 7.9 39.3 89.1 14 .236 .390 .304 .365',\n",
       " 'Royals 2022 6010 5437 1327 247 38 138 460 1287 .244 .306 .380 .302 .347 22872 4214 302 7.2 37.8 88.8 12.9 .243 .392 .309 .359',\n",
       " 'Braves 2022 6082 5509 1394 298 11 243 470 1498 .253 .317 .443 .330 .406 23936 4048 441 10.9 43.5 89.9 13.5 .248 .445 .331 .407',\n",
       " 'Athletics 2022 5863 5314 1147 249 15 137 433 1389 .216 .281 .346 .277 .324 22568 3980 252 6.3 34.2 87.7 11.7 .224 .351 .285 .336',\n",
       " 'Nationals 2022 5998 5434 1351 252 20 136 442 1221 .249 .310 .377 .303 .345 22758 4270 251 5.9 35.4 87.5 10.3 .243 .373 .302 .344',\n",
       " 'Rays 2022 6008 5412 1294 296 17 139 500 1395 .239 .308 .377 .302 .354 23435 4055 247 6.1 38.7 88.9 11.4 .236 .361 .298 .348',\n",
       " 'Mets 2022 6176 5489 1422 272 27 171 510 1217 .259 .332 .412 .326 .367 23987 4336 309 7.1 37.1 88.2 11.9 .252 .404 .322 .362',\n",
       " 'Rockies 2022 6105 5540 1408 280 34 149 453 1330 .254 .315 .398 .312 .365 23635 4260 252 5.9 36.8 87.6 9.9 .244 .369 .301 .349',\n",
       " 'Astros 2022 6054 5409 1341 284 13 214 528 1179 .248 .319 .424 .324 .364 22950 4281 346 8.1 39.1 88.7 14.2 .249 .412 .324 .364',\n",
       " 'Orioles 2022 6049 5429 1281 275 25 171 476 1390 .236 .305 .390 .305 .357 23241 4094 333 8.1 39 88.7 15.5 .238 .392 .310 .364',\n",
       " 'Pirates 2022 5912 5331 1186 221 29 158 476 1497 .222 .291 .364 .289 .347 23201 3885 256 6.6 37.3 88.3 11.6 .225 .353 .289 .347',\n",
       " 'Padres 2022 6175 5468 1317 275 18 153 574 1327 .241 .318 .382 .308 .349 24392 4204 274 6.5 37.7 88.4 13.2 .237 .373 .306 .347',\n",
       " 'Tigers 2022 5870 5378 1240 235 27 110 380 1413 .231 .286 .346 .279 .333 22410 4019 251 6.2 36.4 87.6 11.8 .234 .358 .288 .347',\n",
       " 'Cubs 2022 6072 5425 1293 265 31 159 507 1448 .238 .311 .387 .307 .362 23812 4032 269 6.7 37.2 88.4 10.5 .232 .368 .300 .353',\n",
       " 'Brewers 2022 6122 5417 1271 251 17 219 577 1464 .235 .315 .409 .317 .374 24835 4001 349 8.7 39.8 89 13.5 .236 .397 .315 .371',\n",
       " 'Angels 2022 5977 5423 1265 219 31 190 449 1539 .233 .297 .390 .300 .371 23099 3934 334 8.5 35.8 88.3 13.7 .231 .387 .301 .372',\n",
       " 'Marlins 2022 5949 5395 1241 248 20 144 436 1429 .230 .294 .363 .290 .344 23187 4006 282 7 37.2 88.2 10.9 .236 .373 .299 .356',\n",
       " 'Red Sox 2022 6144 5539 1427 352 12 155 478 1373 .258 .321 .409 .319 .376 23900 4228 343 8.1 40.9 89.3 11.4 .250 .402 .316 .373',\n",
       " 'Blue Jays 2022 6158 5555 1464 307 12 200 500 1242 .264 .329 .431 .331 .381 23694 4354 368 8.5 44.3 90.2 11.2 .257 .418 .326 .374',\n",
       " 'White Sox 2022 6123 5611 1435 272 9 149 388 1269 .256 .310 .387 .306 .355 23147 4393 329 7.5 40.8 89.2 10.6 .248 .395 .308 .358',\n",
       " 'Giants 2022 6117 5392 1261 255 18 183 571 1462 .234 .315 .390 .311 .362 24342 3989 326 8.2 37.7 88.2 15.3 .228 .381 .308 .358',\n",
       " 'Twins 2022 6113 5476 1356 269 18 178 518 1353 .248 .317 .401 .315 .366 23946 4179 365 8.7 41.1 89.6 13.1 .247 .419 .323 .378',\n",
       " 'Dodgers 2022 6247 5526 1418 325 31 212 607 1374 .257 .333 .442 .337 .392 25138 4208 388 9.2 41.9 89.5 15.8 .246 .423 .330 .382',\n",
       " 'Phillies 2022 6077 5496 1392 255 29 205 478 1363 .253 .317 .422 .322 .381 23854 4183 357 8.5 41.1 89.3 13 .252 .417 .322 .382',\n",
       " 'Yankees 2022 6172 5422 1308 225 8 254 620 1391 .241 .325 .426 .327 .380 24434 4086 411 10.1 41.9 89.7 13.3 .244 .427 .330 .385',\n",
       " 'Guardians 2022 6163 5558 1410 273 31 127 450 1122 .254 .316 .383 .306 .339 23703 4510 220 4.9 33.1 87.2 11.7 .245 .361 .298 .329',\n",
       " 'Reds 2022 5978 5380 1264 235 18 156 452 1430 .235 .304 .372 .299 .353 23124 3995 233 5.8 34.7 87.2 12.9 .228 .354 .291 .342',\n",
       " 'D-backs 2022 6027 5351 1232 262 24 173 531 1341 .230 .304 .385 .303 .347 23541 4091 268 6.6 35.8 88.1 12.4 .227 .363 .297 .339',\n",
       " 'Mariners 2022 6117 5375 1236 229 19 197 596 1397 .230 .315 .390 .310 .355 24110 4032 327 8.1 36.7 88.2 15 .236 .393 .317 .364',\n",
       " 'Cardinals 2022 6165 5496 1386 290 21 197 537 1226 .252 .325 .420 .326 .367 24192 4320 325 7.5 37.4 88.2 14.3 .245 .397 .318 .355',\n",
       " '2022 182052 163465 39675 7940 643 5215 14853 40812 .243 .312 .395 .310 .361 708540 124267 9331 7.5 38.3 88.6 12.7 .240 .388 .309 .360']"
      ]
     },
     "execution_count": 67,
     "metadata": {},
     "output_type": "execute_result"
    }
   ],
   "source": [
    "table1.text.split(sep='\\n')"
   ]
  },
  {
   "cell_type": "code",
   "execution_count": 68,
   "id": "9759f07e",
   "metadata": {},
   "outputs": [],
   "source": [
    "header=[]\n",
    "for i in range(1,50):\n",
    "    try:\n",
    "        header.append(driver.find_element(by=By.XPATH,value='/html/body/div[2]/section/div[1]/div[1]/div[2]/table/thead/tr[2]/th[{}]'.format(i)).text)\n",
    "    except:\n",
    "        break"
   ]
  },
  {
   "cell_type": "code",
   "execution_count": 69,
   "id": "e931cc2a",
   "metadata": {},
   "outputs": [
    {
     "data": {
      "text/plain": [
       "['Team',\n",
       " 'Season',\n",
       " 'PA',\n",
       " 'AB',\n",
       " 'H',\n",
       " '2B',\n",
       " '3B',\n",
       " 'HR',\n",
       " 'BB',\n",
       " 'SO',\n",
       " 'BA',\n",
       " 'OBP',\n",
       " 'SLG',\n",
       " 'WOBA',\n",
       " 'WOBACON',\n",
       " 'Pitches',\n",
       " 'Batted Balls',\n",
       " 'Barrels',\n",
       " 'Barrel %',\n",
       " 'Hard Hit %',\n",
       " 'Exit Velocity',\n",
       " 'Launch Angle',\n",
       " 'XBA',\n",
       " 'XSLG',\n",
       " 'XWOBA',\n",
       " 'XWOBACON']"
      ]
     },
     "execution_count": 69,
     "metadata": {},
     "output_type": "execute_result"
    }
   ],
   "source": [
    "header"
   ]
  },
  {
   "cell_type": "code",
   "execution_count": 70,
   "id": "bc828121",
   "metadata": {
    "scrolled": true
   },
   "outputs": [],
   "source": [
    "Statcast_Hitting=table1.text.split(sep='\\n')\n",
    "ls=[]\n",
    "for i in Statcast_Hitting:\n",
    "    if len(i.split(sep=' '))==27:\n",
    "        ls.append( [i.split(' ')[0]+' '+i.split(' ')[1]]+i.split(' ')[2:])\n",
    "    elif len(i.split(sep=' '))==26:\n",
    "        ls.append(i.split(sep=' '))\n",
    "    \n",
    "    \n",
    "    "
   ]
  },
  {
   "cell_type": "code",
   "execution_count": 71,
   "id": "2cdcd260",
   "metadata": {},
   "outputs": [],
   "source": [
    "df=pd.DataFrame(ls,columns=header)\n",
    "df.to_csv('statistics/Statcast_Hitting.csv') "
   ]
  },
  {
   "cell_type": "code",
   "execution_count": null,
   "id": "3aec183e",
   "metadata": {},
   "outputs": [],
   "source": []
  },
  {
   "cell_type": "code",
   "execution_count": 72,
   "id": "468975bb",
   "metadata": {},
   "outputs": [],
   "source": [
    "table2=driver.find_element(by=By.XPATH,value=\"/html/body/div[2]/section/div[1]/div[1]/div[4]/table/tbody\")"
   ]
  },
  {
   "cell_type": "code",
   "execution_count": 73,
   "id": "c57932d6",
   "metadata": {
    "scrolled": false
   },
   "outputs": [
    {
     "data": {
      "text/plain": [
       "['Rangers 2022 23097 48.4 71.8 79.5 30 52.5 32.8 37.5 50.2 28.3 7.3 80.4',\n",
       " 'Royals 2022 22872 48.3 70.2 82 30.1 57.8 32.2 33.6 49.5 25.1 7.3 80.5',\n",
       " 'Braves 2022 23936 47.4 70.6 79.3 31.1 55.3 31.8 34.4 49.8 28.4 7.1 79.8',\n",
       " 'Athletics 2022 22568 49 69.1 80.9 29.8 53.7 32.5 32.4 49.1 27 7.7 76.5',\n",
       " 'Nationals 2022 22758 49.1 68.1 82.5 30.4 60.1 32.8 33.4 48.9 23.9 7 77.1',\n",
       " 'Rays 2022 23435 48.3 68.5 80.8 29.2 56.3 32.3 31.9 48.1 26.5 7.3 77.3',\n",
       " 'Mets 2022 23987 48.5 68 82.6 29.4 61 32.8 30.5 48.2 23.8 7.1 76.2',\n",
       " 'Rockies 2022 23635 49.6 66.5 83.4 30.5 60 32.4 29.8 48.4 23.8 7.4 76.1',\n",
       " 'Astros 2022 22950 47.5 68.9 84.5 29.2 59.5 31.9 35.5 48 23.2 7.1 77.4',\n",
       " 'Orioles 2022 23241 47.9 69.7 81.2 30.9 56.6 31.9 33.7 49.5 26.3 6.9 79',\n",
       " 'Pirates 2022 23201 48.9 64.4 83 28.1 52.2 33.4 28.6 45.8 26.2 7.4 73.4',\n",
       " 'Padres 2022 24392 49 65.4 82.8 27.2 58.7 33.3 30.5 45.9 24 7.1 74.8',\n",
       " 'Tigers 2022 22410 47.5 69.7 81 33.6 56.3 31.8 32.3 50.8 27.2 7.2 77.2',\n",
       " 'Cubs 2022 23812 48.1 67.8 80.4 28.4 54.6 32.9 31.5 47.5 27.2 7.3 76.4',\n",
       " 'Brewers 2022 24835 49.2 65.9 81.8 26.2 55.2 32 26 45.7 25.7 7.4 74.7',\n",
       " 'Angels 2022 23099 50 67.8 79.2 27.9 55 33.1 32.4 47.9 27.2 7.5 78.9',\n",
       " 'Marlins 2022 23187 48 67.7 81.5 30.5 54.7 32.3 32.2 48.4 26.9 7.1 76.9',\n",
       " 'Red Sox 2022 23900 48.3 67.9 81.8 30.5 56.7 32.5 30 48.6 26.1 7.4 78',\n",
       " 'Blue Jays 2022 23694 49.2 68.8 82.3 27.6 58.8 32 31.5 47.9 24.4 7.4 77.9',\n",
       " 'White Sox 2022 23147 48.8 69.1 82.8 32.6 57.5 31.9 32.4 50.4 25.4 7.7 76.5',\n",
       " 'Giants 2022 24342 49.1 66.1 80.9 26.8 55.1 32.9 28.6 46.1 25.9 7.2 77.2',\n",
       " 'Twins 2022 23946 48.7 67.2 82.2 28.5 58.3 32.1 29.4 47.4 25 7.4 76',\n",
       " 'Dodgers 2022 25138 49.2 68.1 81.2 25.6 57.6 32.5 31.2 46.5 25.2 7.6 78.9',\n",
       " 'Phillies 2022 23854 48.4 67.2 82.5 30.9 57.8 32.7 31.5 48.4 25.2 6.9 75.9',\n",
       " 'Yankees 2022 24434 48.6 64.6 80.6 27.8 58.3 32.2 28.6 45.7 26.1 7.6 73.7',\n",
       " 'Guardians 2022 23703 48.8 65.4 85.3 30.9 64.9 32.3 26.9 47.7 21 7.5 71.2',\n",
       " 'Reds 2022 23124 49 66.6 82.7 29.9 55.3 32.2 29.7 48 25.7 7.3 77',\n",
       " 'D-backs 2022 23541 50 65.3 81.9 26.1 57.2 33.7 28.4 45.7 24.3 7.2 76.2',\n",
       " 'Mariners 2022 24110 48.6 67.5 82.6 26.1 55.6 32.6 29.5 46.2 24.9 7.1 77.5',\n",
       " 'Cardinals 2022 24192 48 66 82.5 29.9 60.4 32.9 27.1 47.2 24.4 7 72.8',\n",
       " '2022 48.7 67.6 81.8 29.2 57.1 32.5 31 47.9 25.5 7.3 76.7']"
      ]
     },
     "execution_count": 73,
     "metadata": {},
     "output_type": "execute_result"
    }
   ],
   "source": [
    "table2.text.split(sep='\\n')"
   ]
  },
  {
   "cell_type": "code",
   "execution_count": 74,
   "id": "d980d681",
   "metadata": {},
   "outputs": [],
   "source": [
    "header=[]\n",
    "for i in range(1,20):\n",
    "    try:\n",
    "        header.append(driver.find_element(by=By.XPATH,value='/html/body/div[2]/section/div[1]/div[1]/div[4]/table/thead/tr/th[{}]'.format(i)).text)\n",
    "    except:\n",
    "        break"
   ]
  },
  {
   "cell_type": "code",
   "execution_count": 75,
   "id": "02f5a3ae",
   "metadata": {},
   "outputs": [
    {
     "data": {
      "text/plain": [
       "14"
      ]
     },
     "execution_count": 75,
     "metadata": {},
     "output_type": "execute_result"
    }
   ],
   "source": [
    "len(header)"
   ]
  },
  {
   "cell_type": "code",
   "execution_count": 76,
   "id": "6e140eac",
   "metadata": {},
   "outputs": [],
   "source": [
    "Plate_Discipline=table2.text.split(sep='\\n')\n",
    "ls=[]\n",
    "for i in Plate_Discipline:\n",
    "    if len(i.split(sep=' '))==15:\n",
    "        ls.append( [i.split(' ')[0]+' '+i.split(' ')[1]]+i.split(' ')[2:])\n",
    "    elif len(i.split(sep=' '))==14:\n",
    "        ls.append(i.split(sep=' '))\n",
    "    \n",
    "    "
   ]
  },
  {
   "cell_type": "code",
   "execution_count": 77,
   "id": "a521db87",
   "metadata": {},
   "outputs": [
    {
     "data": {
      "text/plain": [
       "14"
      ]
     },
     "execution_count": 77,
     "metadata": {},
     "output_type": "execute_result"
    }
   ],
   "source": [
    "len(Plate_Discipline[1].split(sep=' '))"
   ]
  },
  {
   "cell_type": "code",
   "execution_count": 78,
   "id": "02abe4b0",
   "metadata": {},
   "outputs": [],
   "source": [
    "df=pd.DataFrame(ls,columns=header)\n",
    "df.to_csv('statistics/Plate_Discipline_Hitting.csv') "
   ]
  },
  {
   "cell_type": "code",
   "execution_count": null,
   "id": "9d21a0af",
   "metadata": {},
   "outputs": [],
   "source": []
  },
  {
   "cell_type": "code",
   "execution_count": 79,
   "id": "374ae1ec",
   "metadata": {},
   "outputs": [],
   "source": [
    "table3=driver.find_element(by=By.XPATH,value=\"/html/body/div[2]/section/div[1]/div[1]/div[6]/table/tbody\")"
   ]
  },
  {
   "cell_type": "code",
   "execution_count": 80,
   "id": "573e0809",
   "metadata": {},
   "outputs": [
    {
     "data": {
      "text/plain": [
       "['Rangers 2022 4080 41.7 27.1 23.1 8.1 39.8 36 24.2 3.9 30 27 24.1 6.9 7.9',\n",
       " 'Royals 2022 4214 42.5 27.2 23.8 6.6 37.8 37.1 25.1 4.5 30.9 26.9 24.2 6.1 7.2',\n",
       " 'Braves 2022 4048 42.4 27.6 23 7 40.2 37.4 22.4 4 30 25 23 6.7 10.9',\n",
       " 'Athletics 2022 3980 45.7 24.4 22.9 7 37.6 37.4 25 4.8 34.3 25.5 23.5 5.2 6.3',\n",
       " 'Nationals 2022 4270 47.1 22.1 24 6.8 37.5 37.2 25.3 5.6 34.2 23.3 25.1 5.3 5.9',\n",
       " 'Rays 2022 4055 44.7 23 24.4 7.9 35.8 38.8 25.4 3.9 33.5 25.2 24.8 6.2 6.1',\n",
       " 'Mets 2022 4336 44.9 24.6 24.2 6.3 36 38.3 25.7 4.8 32.6 24.5 25.1 5.8 7.1',\n",
       " 'Rockies 2022 4260 47 23.3 24.5 5.3 35.7 39.3 25 4.8 34.4 23.3 26 4.9 5.9',\n",
       " 'Astros 2022 4281 41.3 28.3 23.8 6.5 39.5 37.1 23.4 4.2 30 26.4 24.2 6.8 8.1',\n",
       " 'Orioles 2022 4094 39.9 26.3 24.2 9.6 39.1 36.3 24.5 4.4 29.1 27.9 23.7 6.3 8.1',\n",
       " 'Pirates 2022 3885 45.1 25.1 23.1 6.6 38.1 37.2 24.7 5.1 32.7 25.3 24.2 5.7 6.6',\n",
       " 'Padres 2022 4204 43.5 25.5 23.6 7.4 38.8 35.7 25.5 5.1 31.2 26.8 23.2 6.6 6.5',\n",
       " 'Tigers 2022 4019 45.2 23.7 24.2 6.9 37.2 36.4 26.4 4.3 33.6 25 24.7 5.5 6.2',\n",
       " 'Cubs 2022 4032 46.7 23.6 23.2 6.6 38 36.5 25.4 4.6 34.4 23.5 23.5 6 6.7',\n",
       " 'Brewers 2022 4001 42.6 27.9 22.7 6.8 38.6 37.7 23.7 4.2 31.5 25.6 23.2 6.5 8.7',\n",
       " 'Angels 2022 3934 42.2 27.4 23.2 7.2 36.8 38.3 24.9 5.2 30.6 26 24.1 5.3 8.5',\n",
       " 'Marlins 2022 4006 44.9 25.5 23.6 6 36.7 36.6 26.6 4.3 33.3 24.6 24.6 5.9 7',\n",
       " 'Red Sox 2022 4228 44.1 24.1 25.3 6.5 34.3 40 25.7 3.8 32.2 23.9 25.3 6.4 8.1',\n",
       " 'Blue Jays 2022 4354 46 23 23.6 7.3 37.8 36.7 25.6 3.5 33.7 22.7 24.6 6.6 8.5',\n",
       " 'White Sox 2022 4393 45.9 24 24.1 6 35.4 37.9 26.7 3.5 34.6 23.1 24.7 6.1 7.5',\n",
       " 'Giants 2022 3989 41.1 28.4 22.7 7.8 39.4 35.9 24.7 5.5 28.5 28.1 23.6 6.1 8.2',\n",
       " 'Twins 2022 4179 42.2 27.5 24.4 6 39.1 35.5 25.4 3.9 30.4 25.8 24.3 6.6 8.7',\n",
       " 'Dodgers 2022 4208 37.5 31.6 24.9 6 40.7 34.7 24.6 3.2 26.6 28.8 24.5 7.3 9.2',\n",
       " 'Phillies 2022 4183 43.5 25.7 23.7 7.1 36.5 36.4 27.2 4.2 30.8 24.8 25.5 5.9 8.5',\n",
       " 'Yankees 2022 4086 41.9 27.4 23.2 7.5 39 36.2 24.8 3.9 30 25.9 23.6 6.1 10.1',\n",
       " 'Guardians 2022 4510 45 22.6 24.7 7.7 35.3 38.4 26.4 5.2 33.4 26.7 24.3 5.2 4.9',\n",
       " 'Reds 2022 3995 44 24.8 23.7 7.5 39.3 35.5 25.1 5.4 31.9 25.2 25 5.7 5.8',\n",
       " 'D-backs 2022 4091 45.7 25.7 21.9 6.8 39.4 36.6 23.9 5.2 33 25.9 23.1 5.7 6.6',\n",
       " 'Mariners 2022 4032 40.7 27.7 23.2 8.4 38.8 36.5 24.8 4 30.2 28.1 23.6 5.5 8.1',\n",
       " 'Cardinals 2022 4320 41.8 26.3 23.3 8.6 39.5 36.3 24.3 4.2 30.2 27.4 24.1 6.4 7.5',\n",
       " '2022 124267 43.6 25.7 23.7 7.1 37.9 37 25.1 4.4 31.7 25.6 24.3 6.1 7.5']"
      ]
     },
     "execution_count": 80,
     "metadata": {},
     "output_type": "execute_result"
    }
   ],
   "source": [
    "table3.text.split(sep='\\n')"
   ]
  },
  {
   "cell_type": "code",
   "execution_count": 81,
   "id": "7242e6af",
   "metadata": {},
   "outputs": [],
   "source": [
    "header=[]\n",
    "for i in range(1,20):\n",
    "    try:\n",
    "        header.append(driver.find_element(by=By.XPATH,value='/html/body/div[2]/section/div[1]/div[1]/div[6]/table/thead/tr/th[{}]'.format(i)).text)\n",
    "    except:\n",
    "        break"
   ]
  },
  {
   "cell_type": "code",
   "execution_count": 82,
   "id": "77cca51d",
   "metadata": {},
   "outputs": [
    {
     "data": {
      "text/plain": [
       "16"
      ]
     },
     "execution_count": 82,
     "metadata": {},
     "output_type": "execute_result"
    }
   ],
   "source": [
    "len(header)"
   ]
  },
  {
   "cell_type": "code",
   "execution_count": 83,
   "id": "4a74a524",
   "metadata": {},
   "outputs": [],
   "source": [
    "Batted_Ball_Profile=table3.text.split(sep='\\n')\n",
    "ls=[]\n",
    "for i in Batted_Ball_Profile:\n",
    "    if len(i.split(sep=' '))==17:\n",
    "        ls.append( [i.split(' ')[0]+' '+i.split(' ')[1]]+i.split(' ')[2:])\n",
    "    elif len(i.split(sep=' '))==16:\n",
    "        ls.append(i.split(sep=' '))\n",
    "    "
   ]
  },
  {
   "cell_type": "code",
   "execution_count": 84,
   "id": "f2732fa6",
   "metadata": {},
   "outputs": [],
   "source": [
    "df=pd.DataFrame(ls,columns=header)\n",
    "df.to_csv('statistics/Batted_Ball_Profile_Hitting.csv') "
   ]
  },
  {
   "cell_type": "code",
   "execution_count": 85,
   "id": "5ef6d4c9",
   "metadata": {},
   "outputs": [],
   "source": [
    "driver.quit()"
   ]
  },
  {
   "cell_type": "markdown",
   "id": "dd9a610c",
   "metadata": {},
   "source": [
    "# LEAGUE_PITCHING"
   ]
  },
  {
   "cell_type": "code",
   "execution_count": 86,
   "id": "e248af9b",
   "metadata": {},
   "outputs": [],
   "source": [
    "driver= webdriver.Chrome(path)\n",
    "driver.get('https://baseballsavant.mlb.com/league?view=statcast&nav=pitching&season=2022')\n",
    "table1=driver.find_element(by=By.XPATH,value=\"/html/body/div[2]/section/div[1]/div[2]/div[2]/table/tbody\")"
   ]
  },
  {
   "cell_type": "code",
   "execution_count": 87,
   "id": "3743588c",
   "metadata": {},
   "outputs": [],
   "source": [
    "header=[]\n",
    "for i in range(1,50):\n",
    "    try:\n",
    "        header.append(driver.find_element(by=By.XPATH,value='/html/body/div[2]/section/div[1]/div[2]/div[2]/table/thead/tr[2]/th[{}]'.format(i)).text)\n",
    "    except:\n",
    "        break"
   ]
  },
  {
   "cell_type": "code",
   "execution_count": 88,
   "id": "82d00cd9",
   "metadata": {},
   "outputs": [
    {
     "data": {
      "text/plain": [
       "26"
      ]
     },
     "execution_count": 88,
     "metadata": {},
     "output_type": "execute_result"
    }
   ],
   "source": [
    "len(header)"
   ]
  },
  {
   "cell_type": "code",
   "execution_count": 89,
   "id": "b8b2e6d3",
   "metadata": {},
   "outputs": [],
   "source": [
    "Statcast_Pitching=table1.text.split(sep='\\n')\n",
    "ls=[]\n",
    "for i in Statcast_Pitching:\n",
    "    if len(i.split(sep=' '))==27:\n",
    "        ls.append( [i.split(' ')[0]+' '+i.split(' ')[1]]+i.split(' ')[2:])\n",
    "    elif len(i.split(sep=' '))==26:\n",
    "        ls.append(i.split(sep=' '))\n",
    "        \n",
    "df=pd.DataFrame(ls,columns=header)\n",
    "df.to_csv('statistics/Statcast_Pitching.csv')    "
   ]
  },
  {
   "cell_type": "code",
   "execution_count": 90,
   "id": "f2bdbdea",
   "metadata": {},
   "outputs": [],
   "source": [
    "table2=driver.find_element(by=By.XPATH,value=\"/html/body/div[2]/section/div[1]/div[2]/div[4]/table/tbody\")"
   ]
  },
  {
   "cell_type": "code",
   "execution_count": 91,
   "id": "24f65d9c",
   "metadata": {},
   "outputs": [],
   "source": [
    "header=[]\n",
    "for i in range(1,50):\n",
    "    try:\n",
    "        header.append(driver.find_element(by=By.XPATH,value='/html/body/div[2]/section/div[1]/div[2]/div[4]/table/thead/tr/th[{}]'.format(i)).text)\n",
    "    except:\n",
    "        break"
   ]
  },
  {
   "cell_type": "code",
   "execution_count": 92,
   "id": "c6e5f5d8",
   "metadata": {},
   "outputs": [
    {
     "data": {
      "text/plain": [
       "14"
      ]
     },
     "execution_count": 92,
     "metadata": {},
     "output_type": "execute_result"
    }
   ],
   "source": [
    "len(header)"
   ]
  },
  {
   "cell_type": "code",
   "execution_count": 93,
   "id": "0989fb18",
   "metadata": {},
   "outputs": [],
   "source": [
    "Plate_Discipline=table2.text.split(sep='\\n')\n",
    "ls=[]\n",
    "for i in Plate_Discipline:\n",
    "    if len(i.split(sep=' '))==15:\n",
    "        ls.append( [i.split(' ')[0]+' '+i.split(' ')[1]]+i.split(' ')[2:])\n",
    "    elif len(i.split(sep=' '))==14:\n",
    "        ls.append(i.split(sep=' '))\n",
    "        \n",
    "df=pd.DataFrame(ls,columns=header)\n",
    "df.to_csv('statistics/Plate_Discipline_Pitching.csv')    "
   ]
  },
  {
   "cell_type": "code",
   "execution_count": 94,
   "id": "cc09a00b",
   "metadata": {},
   "outputs": [],
   "source": [
    "table3=driver.find_element(by=By.XPATH,value=\"/html/body/div[2]/section/div[1]/div[2]/div[6]/table/tbody\")"
   ]
  },
  {
   "cell_type": "code",
   "execution_count": 95,
   "id": "0f3ecd23",
   "metadata": {},
   "outputs": [],
   "source": [
    "header=[]\n",
    "for i in range(1,50):\n",
    "    try:\n",
    "        header.append(driver.find_element(by=By.XPATH,value='/html/body/div[2]/section/div[1]/div[2]/div[6]/table/thead/tr/th[{}]'.format(i)).text)\n",
    "    except:\n",
    "        break"
   ]
  },
  {
   "cell_type": "code",
   "execution_count": 96,
   "id": "0c29da68",
   "metadata": {},
   "outputs": [
    {
     "data": {
      "text/plain": [
       "16"
      ]
     },
     "execution_count": 96,
     "metadata": {},
     "output_type": "execute_result"
    }
   ],
   "source": [
    "len(header)"
   ]
  },
  {
   "cell_type": "code",
   "execution_count": 97,
   "id": "5a1b4132",
   "metadata": {},
   "outputs": [],
   "source": [
    "Batted_Ball_Profile=table3.text.split(sep='\\n')\n",
    "ls=[]\n",
    "for i in Batted_Ball_Profile:\n",
    "    if len(i.split(sep=' '))==17:\n",
    "        ls.append( [i.split(' ')[0]+' '+i.split(' ')[1]]+i.split(' ')[2:])\n",
    "    elif len(i.split(sep=' '))==16:\n",
    "        ls.append(i.split(sep=' '))\n",
    "        \n",
    "df=pd.DataFrame(ls,columns=header)\n",
    "df.to_csv('statistics/Batted_Ball_Profile_Pitching.csv')    "
   ]
  },
  {
   "cell_type": "code",
   "execution_count": 98,
   "id": "4ab14026",
   "metadata": {},
   "outputs": [],
   "source": [
    "driver.quit()"
   ]
  },
  {
   "cell_type": "code",
   "execution_count": null,
   "id": "0e603577",
   "metadata": {},
   "outputs": [],
   "source": []
  }
 ],
 "metadata": {
  "kernelspec": {
   "display_name": "Python 3 (ipykernel)",
   "language": "python",
   "name": "python3"
  },
  "language_info": {
   "codemirror_mode": {
    "name": "ipython",
    "version": 3
   },
   "file_extension": ".py",
   "mimetype": "text/x-python",
   "name": "python",
   "nbconvert_exporter": "python",
   "pygments_lexer": "ipython3",
   "version": "3.9.7"
  },
  "varInspector": {
   "cols": {
    "lenName": 16,
    "lenType": 16,
    "lenVar": 40
   },
   "kernels_config": {
    "python": {
     "delete_cmd_postfix": "",
     "delete_cmd_prefix": "del ",
     "library": "var_list.py",
     "varRefreshCmd": "print(var_dic_list())"
    },
    "r": {
     "delete_cmd_postfix": ") ",
     "delete_cmd_prefix": "rm(",
     "library": "var_list.r",
     "varRefreshCmd": "cat(var_dic_list()) "
    }
   },
   "types_to_exclude": [
    "module",
    "function",
    "builtin_function_or_method",
    "instance",
    "_Feature"
   ],
   "window_display": false
  }
 },
 "nbformat": 4,
 "nbformat_minor": 5
}
