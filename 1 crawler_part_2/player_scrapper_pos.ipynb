{
 "cells": [
  {
   "cell_type": "code",
   "execution_count": 1,
   "id": "918b05b9",
   "metadata": {},
   "outputs": [],
   "source": [
    "import requests\n",
    "from bs4 import BeautifulSoup\n",
    "import re\n",
    "import numpy as np\n",
    "from selenium import webdriver\n",
    "from selenium.webdriver.common.by import By\n",
    "from selenium.webdriver.chrome.options import Options\n",
    "import csv\n",
    "import time as t\n",
    "\n",
    "from datetime import datetime"
   ]
  },
  {
   "cell_type": "code",
   "execution_count": 2,
   "id": "dd3981a6",
   "metadata": {},
   "outputs": [],
   "source": [
    "import warnings\n",
    "warnings.filterwarnings(\"ignore\")"
   ]
  },
  {
   "cell_type": "code",
   "execution_count": 3,
   "id": "c0ed2b02",
   "metadata": {},
   "outputs": [
    {
     "name": "stdout",
     "output_type": "stream",
     "text": [
      "(175, 10)\n"
     ]
    }
   ],
   "source": [
    "with open('record_linkage.csv', newline='', encoding=\"utf-8\") as f:\n",
    "    reader = csv.reader(f)\n",
    "    data = list(reader)\n",
    "data = np.array(data)\n",
    "print(data.shape)"
   ]
  },
  {
   "cell_type": "code",
   "execution_count": 4,
   "id": "f40c11ee",
   "metadata": {},
   "outputs": [
    {
     "name": "stdout",
     "output_type": "stream",
     "text": [
      "(175, 3)\n",
      "(175, 13)\n",
      "[['savant_id' 'schedule_id' 'savant_uri' ... 'Position' 'Pos_Bat'\n",
      "  'Pos_Throw']\n",
      " ['0' '547989' 'Abreu_Jose' ... 0 0 0]\n",
      " ['1' '660670' 'Acuna_Jr_Ronald' ... 0 0 0]\n",
      " ...\n",
      " ['171' '657140' 'Wright_Kyle' ... 0 0 0]\n",
      " ['172' '573262' 'Yastrzemski_Mike' ... 0 0 0]\n",
      " ['173' '592885' 'Yelich_Christian' ... 0 0 0]]\n"
     ]
    }
   ],
   "source": [
    "additional_col = np.zeros(shape=[data.shape[0], 3], dtype=object)\n",
    "print(additional_col.shape)\n",
    "additional_col[0][0] = 'Position'\n",
    "additional_col[0][1] = 'Pos_Bat'\n",
    "additional_col[0][2] = 'Pos_Throw'\n",
    "player_info = np.append(data, additional_col, 1)\n",
    "print(player_info.shape)\n",
    "print(player_info)"
   ]
  },
  {
   "cell_type": "code",
   "execution_count": 5,
   "id": "9914688d",
   "metadata": {},
   "outputs": [
    {
     "name": "stdout",
     "output_type": "stream",
     "text": [
      "['https://www.mlb.com/player/547989' 'https://www.mlb.com/player/660670'\n",
      " 'https://www.mlb.com/player/642715' 'https://www.mlb.com/player/542583'\n",
      " 'https://www.mlb.com/player/645261' 'https://www.mlb.com/player/624413'\n",
      " 'https://www.mlb.com/player/514888' 'https://www.mlb.com/player/670541'\n",
      " 'https://www.mlb.com/player/542881' 'https://www.mlb.com/player/462101'\n",
      " 'https://www.mlb.com/player/571448' 'https://www.mlb.com/player/668227'\n",
      " 'https://www.mlb.com/player/650333' 'https://www.mlb.com/player/595879'\n",
      " 'https://www.mlb.com/player/605135' 'https://www.mlb.com/player/641355'\n",
      " 'https://www.mlb.com/player/605137' 'https://www.mlb.com/player/643217'\n",
      " 'https://www.mlb.com/player/621244' 'https://www.mlb.com/player/605141'\n",
      " 'https://www.mlb.com/player/666182' 'https://www.mlb.com/player/669456'\n",
      " 'https://www.mlb.com/player/453568' 'https://www.mlb.com/player/593428'\n",
      " 'https://www.mlb.com/player/664761' 'https://www.mlb.com/player/608324'\n",
      " 'https://www.mlb.com/player/664913' 'https://www.mlb.com/player/669203'\n",
      " 'https://www.mlb.com/player/592192' 'https://www.mlb.com/player/592206'\n",
      " 'https://www.mlb.com/player/656302' 'https://www.mlb.com/player/656305'\n",
      " 'https://www.mlb.com/player/543037' 'https://www.mlb.com/player/621043'\n",
      " 'https://www.mlb.com/player/641487' 'https://www.mlb.com/player/630105'\n",
      " 'https://www.mlb.com/player/543068' 'https://www.mlb.com/player/443558'\n",
      " 'https://www.mlb.com/player/506433' 'https://www.mlb.com/player/646240'\n",
      " 'https://www.mlb.com/player/650490' 'https://www.mlb.com/player/518626'\n",
      " 'https://www.mlb.com/player/592273' 'https://www.mlb.com/player/669242'\n",
      " 'https://www.mlb.com/player/500871' 'https://www.mlb.com/player/642731'\n",
      " 'https://www.mlb.com/player/571657' 'https://www.mlb.com/player/527038'\n",
      " 'https://www.mlb.com/player/664034' 'https://www.mlb.com/player/624428'\n",
      " 'https://www.mlb.com/player/607536' 'https://www.mlb.com/player/518692'\n",
      " 'https://www.mlb.com/player/608331' 'https://www.mlb.com/player/668678'\n",
      " 'https://www.mlb.com/player/666969' 'https://www.mlb.com/player/592332'\n",
      " 'https://www.mlb.com/player/502043' 'https://www.mlb.com/player/669302'\n",
      " 'https://www.mlb.com/player/665926' 'https://www.mlb.com/player/502671'\n",
      " 'https://www.mlb.com/player/594835' 'https://www.mlb.com/player/545341'\n",
      " 'https://www.mlb.com/player/663757' 'https://www.mlb.com/player/665489'\n",
      " 'https://www.mlb.com/player/493329' 'https://www.mlb.com/player/664023'\n",
      " 'https://www.mlb.com/player/663647' 'https://www.mlb.com/player/669720'\n",
      " 'https://www.mlb.com/player/514917' 'https://www.mlb.com/player/606192'\n",
      " 'https://www.mlb.com/player/663538' 'https://www.mlb.com/player/656555'\n",
      " 'https://www.mlb.com/player/608344' 'https://www.mlb.com/player/592450'\n",
      " 'https://www.mlb.com/player/518876' 'https://www.mlb.com/player/643393'\n",
      " 'https://www.mlb.com/player/673490' 'https://www.mlb.com/player/643396'\n",
      " 'https://www.mlb.com/player/672386' 'https://www.mlb.com/player/446372'\n",
      " 'https://www.mlb.com/player/680757' 'https://www.mlb.com/player/518934'\n",
      " 'https://www.mlb.com/player/596019' 'https://www.mlb.com/player/641154'\n",
      " 'https://www.mlb.com/player/663993' 'https://www.mlb.com/player/543475'\n",
      " 'https://www.mlb.com/player/592518' 'https://www.mlb.com/player/641820'\n",
      " 'https://www.mlb.com/player/666201' 'https://www.mlb.com/player/608566'\n",
      " 'https://www.mlb.com/player/606466' 'https://www.mlb.com/player/516782'\n",
      " 'https://www.mlb.com/player/502110' 'https://www.mlb.com/player/622761'\n",
      " 'https://www.mlb.com/player/663556' 'https://www.mlb.com/player/457705'\n",
      " 'https://www.mlb.com/player/663474' 'https://www.mlb.com/player/641857'\n",
      " 'https://www.mlb.com/player/643446' 'https://www.mlb.com/player/669004'\n",
      " 'https://www.mlb.com/player/593160' 'https://www.mlb.com/player/571945'\n",
      " 'https://www.mlb.com/player/656756' 'https://www.mlb.com/player/450203'\n",
      " 'https://www.mlb.com/player/663624' 'https://www.mlb.com/player/656775'\n",
      " 'https://www.mlb.com/player/571970' 'https://www.mlb.com/player/669221'\n",
      " 'https://www.mlb.com/player/605397' 'https://www.mlb.com/player/607043'\n",
      " 'https://www.mlb.com/player/605400' 'https://www.mlb.com/player/660271'\n",
      " 'https://www.mlb.com/player/621566' 'https://www.mlb.com/player/542303'\n",
      " 'https://www.mlb.com/player/665161' 'https://www.mlb.com/player/527048'\n",
      " 'https://www.mlb.com/player/502054' 'https://www.mlb.com/player/601713'\n",
      " 'https://www.mlb.com/player/572041' 'https://www.mlb.com/player/595777'\n",
      " 'https://www.mlb.com/player/615698' 'https://www.mlb.com/player/500779'\n",
      " 'https://www.mlb.com/player/608070' 'https://www.mlb.com/player/592662'\n",
      " 'https://www.mlb.com/player/592663' 'https://www.mlb.com/player/592669'\n",
      " 'https://www.mlb.com/player/650859' 'https://www.mlb.com/player/668804'\n",
      " 'https://www.mlb.com/player/663586' 'https://www.mlb.com/player/519203'\n",
      " 'https://www.mlb.com/player/663898' 'https://www.mlb.com/player/607074'\n",
      " 'https://www.mlb.com/player/677594' 'https://www.mlb.com/player/668942'\n",
      " 'https://www.mlb.com/player/500743' 'https://www.mlb.com/player/642708'\n",
      " 'https://www.mlb.com/player/467793' 'https://www.mlb.com/player/623993'\n",
      " 'https://www.mlb.com/player/570731' 'https://www.mlb.com/player/656941'\n",
      " 'https://www.mlb.com/player/608369' 'https://www.mlb.com/player/543760'\n",
      " 'https://www.mlb.com/player/669257' 'https://www.mlb.com/player/665742'\n",
      " 'https://www.mlb.com/player/543807' 'https://www.mlb.com/player/664702'\n",
      " 'https://www.mlb.com/player/553993' 'https://www.mlb.com/player/621020'\n",
      " 'https://www.mlb.com/player/592791' 'https://www.mlb.com/player/642133'\n",
      " 'https://www.mlb.com/player/657041' 'https://www.mlb.com/player/650402'\n",
      " 'https://www.mlb.com/player/663656' 'https://www.mlb.com/player/607208'\n",
      " 'https://www.mlb.com/player/607208' 'https://www.mlb.com/player/628711'\n",
      " 'https://www.mlb.com/player/664353' 'https://www.mlb.com/player/570482'\n",
      " 'https://www.mlb.com/player/664285' 'https://www.mlb.com/player/662139'\n",
      " 'https://www.mlb.com/player/683734' 'https://www.mlb.com/player/657077'\n",
      " 'https://www.mlb.com/player/434378' 'https://www.mlb.com/player/572228'\n",
      " 'https://www.mlb.com/player/425794' 'https://www.mlb.com/player/572233'\n",
      " 'https://www.mlb.com/player/621493' 'https://www.mlb.com/player/657277'\n",
      " 'https://www.mlb.com/player/608385' 'https://www.mlb.com/player/621550'\n",
      " 'https://www.mlb.com/player/677951' 'https://www.mlb.com/player/657140'\n",
      " 'https://www.mlb.com/player/573262' 'https://www.mlb.com/player/592885']\n"
     ]
    }
   ],
   "source": [
    "print(player_info[1:,3])"
   ]
  },
  {
   "cell_type": "code",
   "execution_count": 6,
   "id": "6ffb4fed",
   "metadata": {},
   "outputs": [],
   "source": [
    "path= \"chromedriver.exe\""
   ]
  },
  {
   "cell_type": "code",
   "execution_count": 7,
   "id": "36a8a93c",
   "metadata": {},
   "outputs": [
    {
     "name": "stdout",
     "output_type": "stream",
     "text": [
      "Processing ... (0/174) ...  0:00:08.106650\n",
      "Processing ... (20/174) ...  0:03:33.209238\n",
      "Processing ... (40/174) ...  0:06:55.551738\n",
      "Processing ... (60/174) ...  0:10:16.436708\n",
      "Processing ... (80/174) ...  0:13:39.019252\n",
      "Processing ... (100/174) ...  0:17:04.782834\n",
      "Processing ... (120/174) ...  0:20:36.352114\n",
      "Processing ... (140/174) ...  0:24:00.093999\n",
      "Processing ... (160/174) ...  0:27:27.856509\n"
     ]
    }
   ],
   "source": [
    "root_path = 'schedule'\n",
    "runningtime_start=datetime.now()\n",
    "for i in range(1, player_info.shape[0], 1):\n",
    "\n",
    "    #driver= webdriver.Chrome(path)\n",
    "    options = webdriver.ChromeOptions()\n",
    "    options.headless = True\n",
    "    driver = webdriver.Chrome(path, chrome_options=options)\n",
    "    driver.get(player_info[i][3])\n",
    "\n",
    "    position = driver.find_element(by=By.XPATH,value='/html/body/main/section/header/div/div/ul/li[1]').text\n",
    "    pos_bt = driver.find_element(by=By.XPATH,value='/html/body/main/section/header/div/div/ul/li[2]').text\n",
    "    pos_bat = pos_bt.split(': ')[1].split('/')[0]\n",
    "    pos_throw = pos_bt.split(': ')[1].split('/')[1]\n",
    "    #print(position, pos_bat, pos_throw)\n",
    "    player_info[i][10] = position\n",
    "    player_info[i][11] = pos_bat\n",
    "    player_info[i][12] = pos_throw\n",
    "    \n",
    "    driver.quit()\n",
    "    if (i-1)%20 == 0:\n",
    "        print('Processing ... ('+str(i-1)+'/'+str(player_info.shape[0]-1)+') ... ', datetime.now()-runningtime_start)"
   ]
  },
  {
   "cell_type": "code",
   "execution_count": 8,
   "id": "49254e3e",
   "metadata": {},
   "outputs": [
    {
     "name": "stdout",
     "output_type": "stream",
     "text": [
      "[['savant_id' 'schedule_id' 'savant_uri' ... 'Position' 'Pos_Bat'\n",
      "  'Pos_Throw']\n",
      " ['0' '547989' 'Abreu_Jose' ... '1B' 'R' 'R']\n",
      " ['1' '660670' 'Acuna_Jr_Ronald' ... 'RF' 'R' 'R']\n",
      " ...\n",
      " ['171' '657140' 'Wright_Kyle' ... 'P' 'R' 'R']\n",
      " ['172' '573262' 'Yastrzemski_Mike' ... 'CF' 'L' 'L']\n",
      " ['173' '592885' 'Yelich_Christian' ... 'LF' 'L' 'R']]\n"
     ]
    }
   ],
   "source": [
    "print(player_info)"
   ]
  },
  {
   "cell_type": "code",
   "execution_count": 9,
   "id": "69bbd610",
   "metadata": {},
   "outputs": [],
   "source": [
    "np.savetxt('record_linkage_with_pos.csv', player_info, fmt='%s', encoding=\"utf-8\", delimiter=',')"
   ]
  },
  {
   "cell_type": "code",
   "execution_count": null,
   "id": "ffb5f922",
   "metadata": {},
   "outputs": [],
   "source": []
  }
 ],
 "metadata": {
  "kernelspec": {
   "display_name": "Python 3.10.5 64-bit",
   "language": "python",
   "name": "python3"
  },
  "language_info": {
   "codemirror_mode": {
    "name": "ipython",
    "version": 3
   },
   "file_extension": ".py",
   "mimetype": "text/x-python",
   "name": "python",
   "nbconvert_exporter": "python",
   "pygments_lexer": "ipython3",
   "version": "3.10.5"
  },
  "varInspector": {
   "cols": {
    "lenName": 16,
    "lenType": 16,
    "lenVar": 40
   },
   "kernels_config": {
    "python": {
     "delete_cmd_postfix": "",
     "delete_cmd_prefix": "del ",
     "library": "var_list.py",
     "varRefreshCmd": "print(var_dic_list())"
    },
    "r": {
     "delete_cmd_postfix": ") ",
     "delete_cmd_prefix": "rm(",
     "library": "var_list.r",
     "varRefreshCmd": "cat(var_dic_list()) "
    }
   },
   "types_to_exclude": [
    "module",
    "function",
    "builtin_function_or_method",
    "instance",
    "_Feature"
   ],
   "window_display": false
  },
  "vscode": {
   "interpreter": {
    "hash": "50de70a9325bb4be4ddc676c1523ee623a475b4dc3ab526e9893c4da49819292"
   }
  }
 },
 "nbformat": 4,
 "nbformat_minor": 5
}
