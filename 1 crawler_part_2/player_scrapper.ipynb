{
 "cells": [
  {
   "cell_type": "code",
   "execution_count": 1,
   "id": "918b05b9",
   "metadata": {},
   "outputs": [],
   "source": [
    "import requests\n",
    "from bs4 import BeautifulSoup\n",
    "import re\n",
    "import numpy as np\n",
    "from selenium import webdriver\n",
    "from selenium.webdriver.common.by import By\n",
    "from selenium.webdriver.chrome.options import Options\n",
    "import csv\n",
    "import time as t\n",
    "\n",
    "from datetime import datetime"
   ]
  },
  {
   "cell_type": "code",
   "execution_count": 2,
   "id": "dd3981a6",
   "metadata": {},
   "outputs": [],
   "source": [
    "import warnings\n",
    "warnings.filterwarnings(\"ignore\")"
   ]
  },
  {
   "cell_type": "code",
   "execution_count": 3,
   "id": "c0ed2b02",
   "metadata": {},
   "outputs": [
    {
     "name": "stdout",
     "output_type": "stream",
     "text": [
      "(1350, 4)\n"
     ]
    }
   ],
   "source": [
    "with open('player_info_from_schedule.csv', newline='', encoding=\"utf-8\") as f:\n",
    "    reader = csv.reader(f)\n",
    "    data = list(reader)\n",
    "data = np.array(data)\n",
    "print(data.shape)"
   ]
  },
  {
   "cell_type": "code",
   "execution_count": 4,
   "id": "f40c11ee",
   "metadata": {},
   "outputs": [
    {
     "name": "stdout",
     "output_type": "stream",
     "text": [
      "(1350, 2)\n",
      "(1350, 6)\n",
      "[['Id' 'Url' 'PlayerName' 'Team' 'PlayerName_Official' 'PlayerName_Full']\n",
      " ['673237' 'https://www.mlb.com/player/673237' 'Diaz Y' 'Houston Astros'\n",
      "  0 0]\n",
      " ['671056' 'https://www.mlb.com/player/671056' 'Herrera I'\n",
      "  'St. Louis Cardinals' 0 0]\n",
      " ...\n",
      " ['669618' 'https://www.mlb.com/player/669618' 'Barlow J' 'Texas Rangers'\n",
      "  0 0]\n",
      " ['624503' 'https://www.mlb.com/player/624503' 'Gordon' 'Minnesota Twins'\n",
      "  0 0]\n",
      " ['622569' 'https://www.mlb.com/player/622569' 'Reyes P'\n",
      "  'Milwaukee Brewers' 0 0]]\n"
     ]
    }
   ],
   "source": [
    "additional_col = np.zeros(shape=[data.shape[0], 2], dtype=object)\n",
    "print(additional_col.shape)\n",
    "additional_col[0][0] = 'PlayerName_Official'\n",
    "additional_col[0][1] = 'PlayerName_Full'\n",
    "player_info = np.append(data, additional_col, 1)\n",
    "print(player_info.shape)\n",
    "print(player_info)"
   ]
  },
  {
   "cell_type": "code",
   "execution_count": 5,
   "id": "9914688d",
   "metadata": {},
   "outputs": [
    {
     "name": "stdout",
     "output_type": "stream",
     "text": [
      "['https://www.mlb.com/player/673237' 'https://www.mlb.com/player/671056'\n",
      " 'https://www.mlb.com/player/596748' ...\n",
      " 'https://www.mlb.com/player/669618' 'https://www.mlb.com/player/624503'\n",
      " 'https://www.mlb.com/player/622569']\n"
     ]
    }
   ],
   "source": [
    "print(player_info[1:,1])"
   ]
  },
  {
   "cell_type": "code",
   "execution_count": 6,
   "id": "6ffb4fed",
   "metadata": {},
   "outputs": [],
   "source": [
    "path= \"chromedriver.exe\""
   ]
  },
  {
   "cell_type": "code",
   "execution_count": 7,
   "id": "36a8a93c",
   "metadata": {},
   "outputs": [
    {
     "name": "stdout",
     "output_type": "stream",
     "text": [
      "Processing ... (0/1349) ...  0:00:08.562586\n",
      "Processing ... (50/1349) ...  0:08:34.360899\n",
      "Processing ... (100/1349) ...  0:17:06.422986\n",
      "Processing ... (150/1349) ...  0:25:37.324896\n",
      "Processing ... (200/1349) ...  0:34:07.055930\n",
      "Processing ... (250/1349) ...  0:42:36.949492\n",
      "Processing ... (300/1349) ...  0:51:03.451371\n",
      "Processing ... (350/1349) ...  0:59:34.186136\n",
      "Processing ... (400/1349) ...  1:08:00.686061\n",
      "Processing ... (450/1349) ...  1:16:26.251564\n",
      "Processing ... (500/1349) ...  1:24:48.901806\n",
      "Processing ... (550/1349) ...  1:34:11.702025\n",
      "Processing ... (600/1349) ...  1:43:47.442009\n",
      "Processing ... (650/1349) ...  1:53:22.805657\n",
      "Processing ... (700/1349) ...  2:02:10.506490\n",
      "Processing ... (750/1349) ...  2:10:42.995923\n",
      "Processing ... (800/1349) ...  2:19:10.652759\n",
      "Processing ... (850/1349) ...  2:27:36.904991\n",
      "Processing ... (900/1349) ...  2:36:08.259745\n",
      "Processing ... (950/1349) ...  2:44:35.597726\n",
      "Processing ... (1000/1349) ...  2:53:02.747424\n",
      "Processing ... (1050/1349) ...  3:01:27.832857\n",
      "Processing ... (1100/1349) ...  3:10:01.613554\n",
      "Processing ... (1150/1349) ...  3:18:29.941594\n",
      "Processing ... (1200/1349) ...  3:27:08.653736\n",
      "Processing ... (1250/1349) ...  3:35:40.310558\n",
      "Processing ... (1300/1349) ...  3:44:09.544631\n"
     ]
    }
   ],
   "source": [
    "root_path = 'schedule'\n",
    "runningtime_start=datetime.now()\n",
    "for i in range(1, player_info.shape[0], 1):\n",
    "\n",
    "    #driver= webdriver.Chrome(path)\n",
    "    options = webdriver.ChromeOptions()\n",
    "    options.headless = True\n",
    "    driver = webdriver.Chrome(path, chrome_options=options)\n",
    "    driver.get(player_info[i][1])\n",
    "\n",
    "    official_name = driver.find_element(by=By.XPATH,value='/html/body/main/section/header/div/div/h1/span').text\n",
    "    full_name = driver.find_element(by=By.XPATH,value='/html/body/main/section/section/section/section/section/div[2]/ul/li').text\n",
    "    #print(official_name, full_name)\n",
    "    player_info[i][4] = official_name\n",
    "    player_info[i][5] = full_name.replace('Fullname: ','')\n",
    "    \n",
    "    driver.quit()\n",
    "    if (i-1)%50 == 0:\n",
    "        print('Processing ... ('+str(i-1)+'/'+str(player_info.shape[0]-1)+') ... ', datetime.now()-runningtime_start)"
   ]
  },
  {
   "cell_type": "code",
   "execution_count": 8,
   "id": "49254e3e",
   "metadata": {},
   "outputs": [
    {
     "name": "stdout",
     "output_type": "stream",
     "text": [
      "[['Id' 'Url' 'PlayerName' 'Team' 'PlayerName_Official' 'PlayerName_Full']\n",
      " ['673237' 'https://www.mlb.com/player/673237' 'Diaz Y' 'Houston Astros'\n",
      "  'Yainer Diaz' 'Yainer Radhames Diaz']\n",
      " ['671056' 'https://www.mlb.com/player/671056' 'Herrera I'\n",
      "  'St. Louis Cardinals' 'Iván Herrera' 'Iván Aaron Herrera']\n",
      " ...\n",
      " ['669618' 'https://www.mlb.com/player/669618' 'Barlow J' 'Texas Rangers'\n",
      "  'Joe Barlow' 'Joseph Israel Barlow']\n",
      " ['624503' 'https://www.mlb.com/player/624503' 'Gordon' 'Minnesota Twins'\n",
      "  'Nick Gordon' 'Nicholas Chad Gordon']\n",
      " ['622569' 'https://www.mlb.com/player/622569' 'Reyes P'\n",
      "  'Milwaukee Brewers' 'Pablo Reyes' 'Pablo Reyes']]\n"
     ]
    }
   ],
   "source": [
    "print(player_info)"
   ]
  },
  {
   "cell_type": "code",
   "execution_count": 9,
   "id": "69bbd610",
   "metadata": {},
   "outputs": [],
   "source": [
    "np.savetxt('player_info_from_schedule_with_full_name.csv', player_info, fmt='%s', encoding=\"utf-8\", delimiter=',')"
   ]
  },
  {
   "cell_type": "code",
   "execution_count": null,
   "id": "ffb5f922",
   "metadata": {},
   "outputs": [],
   "source": []
  }
 ],
 "metadata": {
  "kernelspec": {
   "display_name": "Python 3.10.5 64-bit",
   "language": "python",
   "name": "python3"
  },
  "language_info": {
   "codemirror_mode": {
    "name": "ipython",
    "version": 3
   },
   "file_extension": ".py",
   "mimetype": "text/x-python",
   "name": "python",
   "nbconvert_exporter": "python",
   "pygments_lexer": "ipython3",
   "version": "3.10.5"
  },
  "varInspector": {
   "cols": {
    "lenName": 16,
    "lenType": 16,
    "lenVar": 40
   },
   "kernels_config": {
    "python": {
     "delete_cmd_postfix": "",
     "delete_cmd_prefix": "del ",
     "library": "var_list.py",
     "varRefreshCmd": "print(var_dic_list())"
    },
    "r": {
     "delete_cmd_postfix": ") ",
     "delete_cmd_prefix": "rm(",
     "library": "var_list.r",
     "varRefreshCmd": "cat(var_dic_list()) "
    }
   },
   "types_to_exclude": [
    "module",
    "function",
    "builtin_function_or_method",
    "instance",
    "_Feature"
   ],
   "window_display": false
  },
  "vscode": {
   "interpreter": {
    "hash": "50de70a9325bb4be4ddc676c1523ee623a475b4dc3ab526e9893c4da49819292"
   }
  }
 },
 "nbformat": 4,
 "nbformat_minor": 5
}
